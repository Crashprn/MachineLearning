{
 "cells": [
  {
   "cell_type": "markdown",
   "metadata": {},
   "source": [
    "## Imports"
   ]
  },
  {
   "cell_type": "code",
   "execution_count": 41,
   "metadata": {},
   "outputs": [],
   "source": [
    "import numpy as np\n",
    "\n",
    "import matplotlib.pyplot as plt\n",
    "\n",
    "import pandas as pd\n",
    "\n",
    "from sklearn.model_selection import train_test_split\n",
    "from sklearn.metrics import accuracy_score, precision_score, recall_score, f1_score, roc_auc_score, confusion_matrix, ConfusionMatrixDisplay\n",
    "\n",
    "from sklearn.model_selection import GridSearchCV\n",
    "\n",
    "from sklearn.preprocessing import StandardScaler"
   ]
  },
  {
   "cell_type": "markdown",
   "metadata": {},
   "source": [
    "## Loading Data"
   ]
  },
  {
   "cell_type": "code",
   "execution_count": 42,
   "metadata": {},
   "outputs": [
    {
     "data": {
      "text/html": [
       "<div>\n",
       "<style scoped>\n",
       "    .dataframe tbody tr th:only-of-type {\n",
       "        vertical-align: middle;\n",
       "    }\n",
       "\n",
       "    .dataframe tbody tr th {\n",
       "        vertical-align: top;\n",
       "    }\n",
       "\n",
       "    .dataframe thead th {\n",
       "        text-align: right;\n",
       "    }\n",
       "</style>\n",
       "<table border=\"1\" class=\"dataframe\">\n",
       "  <thead>\n",
       "    <tr style=\"text-align: right;\">\n",
       "      <th></th>\n",
       "      <th>Year_Birth</th>\n",
       "      <th>Education</th>\n",
       "      <th>Marital_Status</th>\n",
       "      <th>Income</th>\n",
       "      <th>Kidhome</th>\n",
       "      <th>Teenhome</th>\n",
       "      <th>Recency</th>\n",
       "      <th>MntWines</th>\n",
       "      <th>MntFruits</th>\n",
       "      <th>MntMeatProducts</th>\n",
       "      <th>...</th>\n",
       "      <th>NumDealsPurchases</th>\n",
       "      <th>NumWebPurchases</th>\n",
       "      <th>NumCatalogPurchases</th>\n",
       "      <th>NumStorePurchases</th>\n",
       "      <th>NumWebVisitsMonth</th>\n",
       "      <th>Response</th>\n",
       "      <th>Complain</th>\n",
       "      <th>Missing_Income</th>\n",
       "      <th>Year</th>\n",
       "      <th>Month</th>\n",
       "    </tr>\n",
       "    <tr>\n",
       "      <th>Id</th>\n",
       "      <th></th>\n",
       "      <th></th>\n",
       "      <th></th>\n",
       "      <th></th>\n",
       "      <th></th>\n",
       "      <th></th>\n",
       "      <th></th>\n",
       "      <th></th>\n",
       "      <th></th>\n",
       "      <th></th>\n",
       "      <th></th>\n",
       "      <th></th>\n",
       "      <th></th>\n",
       "      <th></th>\n",
       "      <th></th>\n",
       "      <th></th>\n",
       "      <th></th>\n",
       "      <th></th>\n",
       "      <th></th>\n",
       "      <th></th>\n",
       "      <th></th>\n",
       "    </tr>\n",
       "  </thead>\n",
       "  <tbody>\n",
       "    <tr>\n",
       "      <th>1826</th>\n",
       "      <td>1970</td>\n",
       "      <td>0</td>\n",
       "      <td>0</td>\n",
       "      <td>84835.0</td>\n",
       "      <td>0</td>\n",
       "      <td>0</td>\n",
       "      <td>0</td>\n",
       "      <td>189</td>\n",
       "      <td>104</td>\n",
       "      <td>379</td>\n",
       "      <td>...</td>\n",
       "      <td>1</td>\n",
       "      <td>4</td>\n",
       "      <td>4</td>\n",
       "      <td>6</td>\n",
       "      <td>1</td>\n",
       "      <td>1</td>\n",
       "      <td>0</td>\n",
       "      <td>0</td>\n",
       "      <td>2014</td>\n",
       "      <td>6</td>\n",
       "    </tr>\n",
       "    <tr>\n",
       "      <th>1</th>\n",
       "      <td>1961</td>\n",
       "      <td>0</td>\n",
       "      <td>1</td>\n",
       "      <td>57091.0</td>\n",
       "      <td>0</td>\n",
       "      <td>0</td>\n",
       "      <td>0</td>\n",
       "      <td>464</td>\n",
       "      <td>5</td>\n",
       "      <td>64</td>\n",
       "      <td>...</td>\n",
       "      <td>1</td>\n",
       "      <td>7</td>\n",
       "      <td>3</td>\n",
       "      <td>7</td>\n",
       "      <td>5</td>\n",
       "      <td>1</td>\n",
       "      <td>0</td>\n",
       "      <td>0</td>\n",
       "      <td>2014</td>\n",
       "      <td>6</td>\n",
       "    </tr>\n",
       "    <tr>\n",
       "      <th>10476</th>\n",
       "      <td>1958</td>\n",
       "      <td>0</td>\n",
       "      <td>2</td>\n",
       "      <td>67267.0</td>\n",
       "      <td>0</td>\n",
       "      <td>1</td>\n",
       "      <td>0</td>\n",
       "      <td>134</td>\n",
       "      <td>11</td>\n",
       "      <td>59</td>\n",
       "      <td>...</td>\n",
       "      <td>1</td>\n",
       "      <td>3</td>\n",
       "      <td>2</td>\n",
       "      <td>5</td>\n",
       "      <td>2</td>\n",
       "      <td>0</td>\n",
       "      <td>0</td>\n",
       "      <td>0</td>\n",
       "      <td>2014</td>\n",
       "      <td>5</td>\n",
       "    </tr>\n",
       "    <tr>\n",
       "      <th>1386</th>\n",
       "      <td>1967</td>\n",
       "      <td>0</td>\n",
       "      <td>3</td>\n",
       "      <td>32474.0</td>\n",
       "      <td>1</td>\n",
       "      <td>1</td>\n",
       "      <td>0</td>\n",
       "      <td>10</td>\n",
       "      <td>0</td>\n",
       "      <td>1</td>\n",
       "      <td>...</td>\n",
       "      <td>1</td>\n",
       "      <td>1</td>\n",
       "      <td>0</td>\n",
       "      <td>2</td>\n",
       "      <td>7</td>\n",
       "      <td>0</td>\n",
       "      <td>0</td>\n",
       "      <td>0</td>\n",
       "      <td>2014</td>\n",
       "      <td>11</td>\n",
       "    </tr>\n",
       "    <tr>\n",
       "      <th>5371</th>\n",
       "      <td>1989</td>\n",
       "      <td>0</td>\n",
       "      <td>1</td>\n",
       "      <td>21474.0</td>\n",
       "      <td>1</td>\n",
       "      <td>0</td>\n",
       "      <td>0</td>\n",
       "      <td>6</td>\n",
       "      <td>16</td>\n",
       "      <td>24</td>\n",
       "      <td>...</td>\n",
       "      <td>2</td>\n",
       "      <td>3</td>\n",
       "      <td>1</td>\n",
       "      <td>2</td>\n",
       "      <td>7</td>\n",
       "      <td>1</td>\n",
       "      <td>0</td>\n",
       "      <td>0</td>\n",
       "      <td>2014</td>\n",
       "      <td>8</td>\n",
       "    </tr>\n",
       "  </tbody>\n",
       "</table>\n",
       "<p>5 rows × 23 columns</p>\n",
       "</div>"
      ],
      "text/plain": [
       "       Year_Birth  Education  Marital_Status   Income  Kidhome  Teenhome  \\\n",
       "Id                                                                         \n",
       "1826         1970          0               0  84835.0        0         0   \n",
       "1            1961          0               1  57091.0        0         0   \n",
       "10476        1958          0               2  67267.0        0         1   \n",
       "1386         1967          0               3  32474.0        1         1   \n",
       "5371         1989          0               1  21474.0        1         0   \n",
       "\n",
       "       Recency  MntWines  MntFruits  MntMeatProducts  ...  NumDealsPurchases  \\\n",
       "Id                                                    ...                      \n",
       "1826         0       189        104              379  ...                  1   \n",
       "1            0       464          5               64  ...                  1   \n",
       "10476        0       134         11               59  ...                  1   \n",
       "1386         0        10          0                1  ...                  1   \n",
       "5371         0         6         16               24  ...                  2   \n",
       "\n",
       "       NumWebPurchases  NumCatalogPurchases  NumStorePurchases  \\\n",
       "Id                                                               \n",
       "1826                 4                    4                  6   \n",
       "1                    7                    3                  7   \n",
       "10476                3                    2                  5   \n",
       "1386                 1                    0                  2   \n",
       "5371                 3                    1                  2   \n",
       "\n",
       "       NumWebVisitsMonth  Response  Complain  Missing_Income  Year  Month  \n",
       "Id                                                                         \n",
       "1826                   1         1         0               0  2014      6  \n",
       "1                      5         1         0               0  2014      6  \n",
       "10476                  2         0         0               0  2014      5  \n",
       "1386                   7         0         0               0  2014     11  \n",
       "5371                   7         1         0               0  2014      8  \n",
       "\n",
       "[5 rows x 23 columns]"
      ]
     },
     "metadata": {},
     "output_type": "display_data"
    },
    {
     "name": "stdout",
     "output_type": "stream",
     "text": [
      "['Year_Birth', 'Education', 'Marital_Status', 'Income', 'Kidhome', 'Teenhome', 'Recency', 'MntWines', 'MntFruits', 'MntMeatProducts', 'MntFishProducts', 'MntSweetProducts', 'MntGoldProds', 'NumDealsPurchases', 'NumWebPurchases', 'NumCatalogPurchases', 'NumStorePurchases', 'NumWebVisitsMonth', 'Complain', 'Missing_Income', 'Year', 'Month']\n",
      "Response\n",
      "Number of samples: 2240\n",
      "Number of yes responses: 334\n",
      "Number of no responses: 1906\n",
      "Majority class percentage: 0.8508928571428571\n",
      "Number of training samples: 2140\n",
      "Number of test samples: 100\n",
      "Number of yes in test: 50\n",
      "Number of no in test: 50\n"
     ]
    }
   ],
   "source": [
    "data_path = 'data/superstore_data_imputed.csv'\n",
    "\n",
    "df = pd.read_csv(data_path, index_col=0)\n",
    "\n",
    "# Expanding date time to year, month\n",
    "\n",
    "df['Dt_Customer'] = pd.to_datetime(df['Dt_Customer'])\n",
    "\n",
    "df['Year'] = df['Dt_Customer'].dt.year\n",
    "df['Month'] = df['Dt_Customer'].dt.month\n",
    "\n",
    "df.drop('Dt_Customer', axis=1, inplace=True)\n",
    "\n",
    "display(df.head())\n",
    "\n",
    "cols = df.columns\n",
    "\n",
    "x_cols = [c for c in cols if c != 'Response']\n",
    "y_col = 'Response'\n",
    "\n",
    "print(x_cols)\n",
    "print(y_col)\n",
    "\n",
    "x = df[x_cols].values\n",
    "y = df[y_col].values\n",
    "\n",
    "x = StandardScaler().fit_transform(x)\n",
    "\n",
    "print(f\"Number of samples: {x.shape[0]}\")\n",
    "print(f\"Number of yes responses: {np.sum(y)}\")\n",
    "print(f\"Number of no responses: {x.shape[0] - np.sum(y)}\")\n",
    "print(f\"Majority class percentage: {(x.shape[0]-np.sum(y)) / x.shape[0]}\")\n",
    "\n",
    "yes_idx = np.where(y == 1)[0]\n",
    "no_idx = np.where(y == 0)[0]\n",
    "\n",
    "np.random.shuffle(yes_idx)\n",
    "np.random.shuffle(no_idx)\n",
    "\n",
    "test_idx = np.concatenate((yes_idx[:50], no_idx[:50]))\n",
    "train_idx = np.concatenate((yes_idx[50:], no_idx[50:]))\n",
    "\n",
    "x_train = x[train_idx]\n",
    "y_train = y[train_idx]\n",
    "\n",
    "x_test = x[test_idx]\n",
    "y_test = y[test_idx]\n",
    "\n",
    "print(f\"Number of training samples: {x_train.shape[0]}\")\n",
    "print(f\"Number of test samples: {x_test.shape[0]}\")\n",
    "\n",
    "print(f\"Number of yes in test: {np.sum(y_test)}\")\n",
    "print(f\"Number of no in test: {x_test.shape[0] - np.sum(y_test)}\")"
   ]
  },
  {
   "cell_type": "markdown",
   "metadata": {},
   "source": [
    "## K-NN Classifier"
   ]
  },
  {
   "cell_type": "code",
   "execution_count": 43,
   "metadata": {},
   "outputs": [
    {
     "name": "stdout",
     "output_type": "stream",
     "text": [
      "{'n_neighbors': 9}\n"
     ]
    },
    {
     "data": {
      "image/png": "[encoded data removed]",
      "text/plain": [
       "<Figure size 640x480 with 2 Axes>"
      ]
     },
     "metadata": {},
     "output_type": "display_data"
    },
    {
     "name": "stdout",
     "output_type": "stream",
     "text": [
      "Accuracy: 0.5300, Precision: 0.8000, Recall: 0.0800, F1: 0.14545454545454545, ROC AUC: 0.5300\n"
     ]
    }
   ],
   "source": [
    "from sklearn.neighbors import KNeighborsClassifier\n",
    "\n",
    "parameters = {\n",
    "    'n_neighbors': [3, 5, 7, 9, 11, 13, 15, 20, 30, 40, 50, 60, 70, 80, 90, 100],\n",
    "}\n",
    "\n",
    "knn = KNeighborsClassifier()\n",
    "\n",
    "gs = GridSearchCV(knn, parameters, scoring='accuracy', cv=5, n_jobs=8)\n",
    "\n",
    "gs = gs.fit(x_train, y_train)\n",
    "\n",
    "print(gs.best_params_)\n",
    "\n",
    "best_knn = gs.best_estimator_\n",
    "\n",
    "y_pred = best_knn.predict(x_test)\n",
    "\n",
    "acc = accuracy_score(y_test, y_pred)\n",
    "precision = precision_score(y_test, y_pred)\n",
    "recall = recall_score(y_test, y_pred)\n",
    "f1 = f1_score(y_test, y_pred)\n",
    "roc_auc = roc_auc_score(y_test, y_pred)\n",
    "conf_mat = confusion_matrix(y_test, y_pred)\n",
    "\n",
    "disp = ConfusionMatrixDisplay(confusion_matrix=conf_mat, display_labels=best_knn.classes_)\n",
    "disp.plot()\n",
    "plt.show()\n",
    "\n",
    "print(f\"Accuracy: {acc:.4f}, Precision: {precision:.4f}, Recall: {recall:.4f}, F1: {f1}, ROC AUC: {roc_auc:.4f}\")\n",
    "\n"
   ]
  },
  {
   "cell_type": "markdown",
   "metadata": {},
   "source": [
    "## LDA"
   ]
  },
  {
   "cell_type": "code",
   "execution_count": 44,
   "metadata": {},
   "outputs": [
    {
     "name": "stdout",
     "output_type": "stream",
     "text": [
      "{'solver': 'svd'}\n"
     ]
    },
    {
     "data": {
      "image/png": "[encoded data removed]",
      "text/plain": [
       "<Figure size 640x480 with 2 Axes>"
      ]
     },
     "metadata": {},
     "output_type": "display_data"
    },
    {
     "name": "stdout",
     "output_type": "stream",
     "text": [
      "Accuracy: 0.6100, Precision: 0.8667, Recall: 0.2600, F1: 0.4, ROC AUC: 0.6100\n"
     ]
    }
   ],
   "source": [
    "from sklearn.discriminant_analysis import LinearDiscriminantAnalysis\n",
    "\n",
    "parameters = {'solver': ['svd', 'lsqr', 'eigen']}\n",
    "lda = LinearDiscriminantAnalysis()\n",
    "\n",
    "gs = GridSearchCV(lda, parameters, scoring='accuracy', cv=5, n_jobs=8)\n",
    "\n",
    "gs = gs.fit(x_train, y_train)\n",
    "\n",
    "print(gs.best_params_)\n",
    "\n",
    "best_lda = gs.best_estimator_\n",
    "\n",
    "y_pred = best_lda.predict(x_test)\n",
    "\n",
    "acc = accuracy_score(y_test, y_pred)\n",
    "precision = precision_score(y_test, y_pred)\n",
    "recall = recall_score(y_test, y_pred)\n",
    "f1 = f1_score(y_test, y_pred)\n",
    "roc_auc = roc_auc_score(y_test, y_pred)\n",
    "conf_mat = confusion_matrix(y_test, y_pred)\n",
    "\n",
    "disp = ConfusionMatrixDisplay(confusion_matrix=conf_mat, display_labels=best_knn.classes_)\n",
    "disp.plot()\n",
    "plt.show()\n",
    "\n",
    "\n",
    "print(f\"Accuracy: {acc:.4f}, Precision: {precision:.4f}, Recall: {recall:.4f}, F1: {f1}, ROC AUC: {roc_auc:.4f}\")"
   ]
  },
  {
   "cell_type": "markdown",
   "metadata": {},
   "source": [
    "## QDA"
   ]
  },
  {
   "cell_type": "code",
   "execution_count": 45,
   "metadata": {},
   "outputs": [
    {
     "name": "stdout",
     "output_type": "stream",
     "text": [
      "{'reg_param': 0.1}\n"
     ]
    },
    {
     "name": "stderr",
     "output_type": "stream",
     "text": [
      "/home/codygrogan/.local/lib/python3.12/site-packages/sklearn/discriminant_analysis.py:935: UserWarning: Variables are collinear\n",
      "  warnings.warn(\"Variables are collinear\")\n",
      "/home/codygrogan/.local/lib/python3.12/site-packages/sklearn/discriminant_analysis.py:935: UserWarning: Variables are collinear\n",
      "  warnings.warn(\"Variables are collinear\")\n",
      "/home/codygrogan/.local/lib/python3.12/site-packages/sklearn/discriminant_analysis.py:935: UserWarning: Variables are collinear\n",
      "  warnings.warn(\"Variables are collinear\")\n",
      "/home/codygrogan/.local/lib/python3.12/site-packages/sklearn/discriminant_analysis.py:935: UserWarning: Variables are collinear\n",
      "  warnings.warn(\"Variables are collinear\")\n",
      "/home/codygrogan/.local/lib/python3.12/site-packages/sklearn/discriminant_analysis.py:935: UserWarning: Variables are collinear\n",
      "  warnings.warn(\"Variables are collinear\")\n"
     ]
    },
    {
     "data": {
      "image/png": "[encoded data removed]",
      "text/plain": [
       "<Figure size 640x480 with 2 Axes>"
      ]
     },
     "metadata": {},
     "output_type": "display_data"
    },
    {
     "name": "stdout",
     "output_type": "stream",
     "text": [
      "Accuracy: 0.6400, Precision: 0.7692, Recall: 0.4000, F1: 0.5263157894736842, ROC AUC: 0.6400\n"
     ]
    }
   ],
   "source": [
    "from sklearn.discriminant_analysis import QuadraticDiscriminantAnalysis\n",
    "\n",
    "parameters = {'reg_param': [0.0, 0.001, 0.01, 0.05, 0.1]}\n",
    "qda = QuadraticDiscriminantAnalysis()\n",
    "\n",
    "gs = GridSearchCV(qda, parameters, scoring='accuracy', cv=5, n_jobs=8)\n",
    "\n",
    "gs = gs.fit(x_train, y_train)\n",
    "\n",
    "print(gs.best_params_)\n",
    "\n",
    "best_qda = gs.best_estimator_\n",
    "\n",
    "y_pred = best_qda.predict(x_test)\n",
    "\n",
    "acc = accuracy_score(y_test, y_pred)\n",
    "precision = precision_score(y_test, y_pred)\n",
    "recall = recall_score(y_test, y_pred)\n",
    "f1 = f1_score(y_test, y_pred)\n",
    "roc_auc = roc_auc_score(y_test, y_pred)\n",
    "conf_mat = confusion_matrix(y_test, y_pred)\n",
    "\n",
    "disp = ConfusionMatrixDisplay(confusion_matrix=conf_mat, display_labels=best_knn.classes_)\n",
    "disp.plot()\n",
    "plt.show()\n",
    "\n",
    "print(f\"Accuracy: {acc:.4f}, Precision: {precision:.4f}, Recall: {recall:.4f}, F1: {f1}, ROC AUC: {roc_auc:.4f}\")"
   ]
  },
  {
   "cell_type": "markdown",
   "metadata": {},
   "source": [
    "## Logistic Regression"
   ]
  },
  {
   "cell_type": "code",
   "execution_count": 46,
   "metadata": {},
   "outputs": [
    {
     "name": "stdout",
     "output_type": "stream",
     "text": [
      "{'C': 1, 'penalty': 'l2'}\n"
     ]
    },
    {
     "name": "stderr",
     "output_type": "stream",
     "text": [
      "/home/codygrogan/.local/lib/python3.12/site-packages/sklearn/model_selection/_validation.py:425: FitFailedWarning: \n",
      "40 fits failed out of a total of 80.\n",
      "The score on these train-test partitions for these parameters will be set to nan.\n",
      "If these failures are not expected, you can try to debug them by setting error_score='raise'.\n",
      "\n",
      "Below are more details about the failures:\n",
      "--------------------------------------------------------------------------------\n",
      "40 fits failed with the following error:\n",
      "Traceback (most recent call last):\n",
      "  File \"/home/codygrogan/.local/lib/python3.12/site-packages/sklearn/model_selection/_validation.py\", line 729, in _fit_and_score\n",
      "    estimator.fit(X_train, y_train, **fit_params)\n",
      "  File \"/home/codygrogan/.local/lib/python3.12/site-packages/sklearn/base.py\", line 1152, in wrapper\n",
      "    return fit_method(estimator, *args, **kwargs)\n",
      "           ^^^^^^^^^^^^^^^^^^^^^^^^^^^^^^^^^^^^^^\n",
      "  File \"/home/codygrogan/.local/lib/python3.12/site-packages/sklearn/linear_model/_logistic.py\", line 1169, in fit\n",
      "    solver = _check_solver(self.solver, self.penalty, self.dual)\n",
      "             ^^^^^^^^^^^^^^^^^^^^^^^^^^^^^^^^^^^^^^^^^^^^^^^^^^^\n",
      "  File \"/home/codygrogan/.local/lib/python3.12/site-packages/sklearn/linear_model/_logistic.py\", line 56, in _check_solver\n",
      "    raise ValueError(\n",
      "ValueError: Solver lbfgs supports only 'l2' or 'none' penalties, got l1 penalty.\n",
      "\n",
      "  warnings.warn(some_fits_failed_message, FitFailedWarning)\n",
      "/home/codygrogan/.local/lib/python3.12/site-packages/sklearn/model_selection/_search.py:979: UserWarning: One or more of the test scores are non-finite: [       nan 0.86728972        nan 0.87196262        nan 0.87336449\n",
      "        nan 0.87616822        nan 0.87570093        nan 0.87570093\n",
      "        nan 0.87570093        nan 0.87570093]\n",
      "  warnings.warn(\n"
     ]
    },
    {
     "data": {
      "image/png": "[encoded data removed]",
      "text/plain": [
       "<Figure size 640x480 with 2 Axes>"
      ]
     },
     "metadata": {},
     "output_type": "display_data"
    },
    {
     "name": "stdout",
     "output_type": "stream",
     "text": [
      "Accuracy: 0.5700, Precision: 0.8889, Recall: 0.1600, F1: 0.27118644067796616, ROC AUC: 0.5700\n"
     ]
    }
   ],
   "source": [
    "from sklearn.linear_model import LogisticRegression\n",
    "\n",
    "parameters = {\n",
    "    'penalty': ['l1', 'l2'],\n",
    "    'C': [0.001, 0.01, 0.1, 1, 10, 20, 30, 40]\n",
    "}\n",
    "logr = LogisticRegression(max_iter=1000)\n",
    "\n",
    "gs = GridSearchCV(logr, parameters, scoring='accuracy', cv=5, n_jobs=8)\n",
    "\n",
    "gs = gs.fit(x_train, y_train)\n",
    "\n",
    "print(gs.best_params_)\n",
    "\n",
    "best_logr = gs.best_estimator_\n",
    "\n",
    "y_pred = best_logr.predict(x_test)\n",
    "\n",
    "acc = accuracy_score(y_test, y_pred)\n",
    "precision = precision_score(y_test, y_pred)\n",
    "recall = recall_score(y_test, y_pred)\n",
    "f1 = f1_score(y_test, y_pred)\n",
    "roc_auc = roc_auc_score(y_test, y_pred)\n",
    "conf_mat = confusion_matrix(y_test, y_pred)\n",
    "\n",
    "disp = ConfusionMatrixDisplay(confusion_matrix=conf_mat, display_labels=best_knn.classes_)\n",
    "disp.plot()\n",
    "plt.show()\n",
    "\n",
    "print(f\"Accuracy: {acc:.4f}, Precision: {precision:.4f}, Recall: {recall:.4f}, F1: {f1}, ROC AUC: {roc_auc:.4f}\")"
   ]
  },
  {
   "cell_type": "markdown",
   "metadata": {},
   "source": [
    "## SVC"
   ]
  },
  {
   "cell_type": "code",
   "execution_count": 47,
   "metadata": {},
   "outputs": [
    {
     "name": "stdout",
     "output_type": "stream",
     "text": [
      "{'C': 1, 'kernel': 'rbf'}\n"
     ]
    },
    {
     "data": {
      "image/png": "[encoded data removed]",
      "text/plain": [
       "<Figure size 640x480 with 2 Axes>"
      ]
     },
     "metadata": {},
     "output_type": "display_data"
    },
    {
     "name": "stdout",
     "output_type": "stream",
     "text": [
      "Accuracy: 0.5500, Precision: 0.8571, Recall: 0.1200, F1: 0.21052631578947367, ROC AUC: 0.5500\n"
     ]
    }
   ],
   "source": [
    "from sklearn.svm import SVC\n",
    "\n",
    "parameters = {\n",
    "    'C': [0.1, 1, 10],\n",
    "    'kernel': ['linear', 'poly', 'rbf']\n",
    "}\n",
    "svc = SVC()\n",
    "\n",
    "gs = GridSearchCV(svc, parameters, scoring='accuracy', cv=5, n_jobs=8)\n",
    "\n",
    "gs = gs.fit(x_train, y_train)\n",
    "\n",
    "print(gs.best_params_)\n",
    "\n",
    "best_svc = gs.best_estimator_\n",
    "\n",
    "y_pred = best_svc.predict(x_test)\n",
    "\n",
    "acc = accuracy_score(y_test, y_pred)\n",
    "precision = precision_score(y_test, y_pred)\n",
    "recall = recall_score(y_test, y_pred)\n",
    "f1 = f1_score(y_test, y_pred)\n",
    "roc_auc = roc_auc_score(y_test, y_pred)\n",
    "conf_mat = confusion_matrix(y_test, y_pred)\n",
    "\n",
    "disp = ConfusionMatrixDisplay(confusion_matrix=conf_mat, display_labels=best_knn.classes_)\n",
    "disp.plot()\n",
    "plt.show()\n",
    "\n",
    "print(f\"Accuracy: {acc:.4f}, Precision: {precision:.4f}, Recall: {recall:.4f}, F1: {f1}, ROC AUC: {roc_auc:.4f}\")"
   ]
  },
  {
   "cell_type": "markdown",
   "metadata": {},
   "source": [
    "## Random Forests"
   ]
  },
  {
   "cell_type": "code",
   "execution_count": 48,
   "metadata": {},
   "outputs": [
    {
     "name": "stderr",
     "output_type": "stream",
     "text": [
      "/home/codygrogan/.local/lib/python3.12/site-packages/sklearn/model_selection/_validation.py:425: FitFailedWarning: \n",
      "280 fits failed out of a total of 840.\n",
      "The score on these train-test partitions for these parameters will be set to nan.\n",
      "If these failures are not expected, you can try to debug them by setting error_score='raise'.\n",
      "\n",
      "Below are more details about the failures:\n",
      "--------------------------------------------------------------------------------\n",
      "159 fits failed with the following error:\n",
      "Traceback (most recent call last):\n",
      "  File \"/home/codygrogan/.local/lib/python3.12/site-packages/sklearn/model_selection/_validation.py\", line 729, in _fit_and_score\n",
      "    estimator.fit(X_train, y_train, **fit_params)\n",
      "  File \"/home/codygrogan/.local/lib/python3.12/site-packages/sklearn/base.py\", line 1145, in wrapper\n",
      "    estimator._validate_params()\n",
      "  File \"/home/codygrogan/.local/lib/python3.12/site-packages/sklearn/base.py\", line 638, in _validate_params\n",
      "    validate_parameter_constraints(\n",
      "  File \"/home/codygrogan/.local/lib/python3.12/site-packages/sklearn/utils/_param_validation.py\", line 96, in validate_parameter_constraints\n",
      "    raise InvalidParameterError(\n",
      "sklearn.utils._param_validation.InvalidParameterError: The 'max_features' parameter of RandomForestClassifier must be an int in the range [1, inf), a float in the range (0.0, 1.0], a str among {'log2', 'sqrt'} or None. Got 'auto' instead.\n",
      "\n",
      "--------------------------------------------------------------------------------\n",
      "121 fits failed with the following error:\n",
      "Traceback (most recent call last):\n",
      "  File \"/home/codygrogan/.local/lib/python3.12/site-packages/sklearn/model_selection/_validation.py\", line 729, in _fit_and_score\n",
      "    estimator.fit(X_train, y_train, **fit_params)\n",
      "  File \"/home/codygrogan/.local/lib/python3.12/site-packages/sklearn/base.py\", line 1145, in wrapper\n",
      "    estimator._validate_params()\n",
      "  File \"/home/codygrogan/.local/lib/python3.12/site-packages/sklearn/base.py\", line 638, in _validate_params\n",
      "    validate_parameter_constraints(\n",
      "  File \"/home/codygrogan/.local/lib/python3.12/site-packages/sklearn/utils/_param_validation.py\", line 96, in validate_parameter_constraints\n",
      "    raise InvalidParameterError(\n",
      "sklearn.utils._param_validation.InvalidParameterError: The 'max_features' parameter of RandomForestClassifier must be an int in the range [1, inf), a float in the range (0.0, 1.0], a str among {'sqrt', 'log2'} or None. Got 'auto' instead.\n",
      "\n",
      "  warnings.warn(some_fits_failed_message, FitFailedWarning)\n",
      "/home/codygrogan/.local/lib/python3.12/site-packages/sklearn/model_selection/_search.py:979: UserWarning: One or more of the test scores are non-finite: [       nan        nan        nan        nan        nan        nan\n",
      "        nan 0.88130841 0.87757009 0.88271028 0.88271028 0.88130841\n",
      " 0.88271028 0.88364486 0.88037383 0.87757009 0.87897196 0.88411215\n",
      " 0.87897196 0.87943925 0.88037383        nan        nan        nan\n",
      "        nan        nan        nan        nan 0.8682243  0.87102804\n",
      " 0.86962617 0.86915888 0.86915888 0.86962617 0.86869159 0.87009346\n",
      " 0.8682243  0.87009346 0.86962617 0.86915888 0.8682243  0.86915888\n",
      "        nan        nan        nan        nan        nan        nan\n",
      "        nan 0.8817757  0.87850467 0.88130841 0.87897196 0.87943925\n",
      " 0.8817757  0.87990654 0.87943925 0.87990654 0.87897196 0.87990654\n",
      " 0.88084112 0.87943925 0.88084112        nan        nan        nan\n",
      "        nan        nan        nan        nan 0.88037383 0.88317757\n",
      " 0.87990654 0.87803738 0.87990654 0.87897196 0.88411215 0.88037383\n",
      " 0.88224299 0.87943925 0.8817757  0.8817757  0.88130841 0.88037383\n",
      "        nan        nan        nan        nan        nan        nan\n",
      "        nan 0.8817757  0.87990654 0.87990654 0.88037383 0.88037383\n",
      " 0.88224299 0.88224299 0.88271028 0.88084112 0.88130841 0.88130841\n",
      " 0.87943925 0.87943925 0.88084112        nan        nan        nan\n",
      "        nan        nan        nan        nan 0.87850467 0.87990654\n",
      " 0.88317757 0.88130841 0.87850467 0.88271028 0.88130841 0.87897196\n",
      " 0.88411215 0.88130841 0.8817757  0.88037383 0.87850467 0.88224299\n",
      "        nan        nan        nan        nan        nan        nan\n",
      "        nan 0.88224299 0.87897196 0.88084112 0.88271028 0.88130841\n",
      " 0.87943925 0.8817757  0.87943925 0.88130841 0.88037383 0.88037383\n",
      " 0.88317757 0.87990654 0.87943925        nan        nan        nan\n",
      "        nan        nan        nan        nan 0.88130841 0.88317757\n",
      " 0.87943925 0.88084112 0.88130841 0.8817757  0.88084112 0.87616822\n",
      " 0.88271028 0.8817757  0.88084112 0.88224299 0.88037383 0.88037383]\n",
      "  warnings.warn(\n"
     ]
    },
    {
     "name": "stdout",
     "output_type": "stream",
     "text": [
      "{'max_depth': None, 'max_features': 'log2', 'n_estimators': 250}\n"
     ]
    },
    {
     "data": {
      "image/png": "[encoded data removed]",
      "text/plain": [
       "<Figure size 640x480 with 2 Axes>"
      ]
     },
     "metadata": {},
     "output_type": "display_data"
    },
    {
     "name": "stdout",
     "output_type": "stream",
     "text": [
      "Accuracy: 0.6400, Precision: 0.9375, Recall: 0.3000, F1: 0.45454545454545453, ROC AUC: 0.6400\n"
     ]
    }
   ],
   "source": [
    "from sklearn.ensemble import RandomForestClassifier\n",
    "\n",
    "parameters = {\n",
    "    'n_estimators': [100, 150, 200, 250, 300, 400, 500],\n",
    "    'max_depth': [None, 5, 10, 15, 20, 30, 40, 50],\n",
    "    'max_features': ['auto', 'sqrt', 'log2']\n",
    "}\n",
    "rfc = RandomForestClassifier()\n",
    "\n",
    "gs = GridSearchCV(rfc, parameters, scoring='accuracy', cv=5, n_jobs=10)\n",
    "\n",
    "gs = gs.fit(x_train, y_train)\n",
    "\n",
    "print(gs.best_params_)\n",
    "\n",
    "best_rfc = gs.best_estimator_\n",
    "\n",
    "y_pred = best_rfc.predict(x_test)\n",
    "\n",
    "acc = accuracy_score(y_test, y_pred)\n",
    "precision = precision_score(y_test, y_pred)\n",
    "recall = recall_score(y_test, y_pred)\n",
    "f1 = f1_score(y_test, y_pred)\n",
    "roc_auc = roc_auc_score(y_test, y_pred)\n",
    "conf_mat = confusion_matrix(y_test, y_pred)\n",
    "\n",
    "disp = ConfusionMatrixDisplay(confusion_matrix=conf_mat, display_labels=best_knn.classes_)\n",
    "disp.plot()\n",
    "plt.show()\n",
    "\n",
    "print(f\"Accuracy: {acc:.4f}, Precision: {precision:.4f}, Recall: {recall:.4f}, F1: {f1}, ROC AUC: {roc_auc:.4f}\")"
   ]
  },
  {
   "cell_type": "markdown",
   "metadata": {},
   "source": [
    "## XGBoost"
   ]
  },
  {
   "cell_type": "code",
   "execution_count": 49,
   "metadata": {},
   "outputs": [
    {
     "name": "stdout",
     "output_type": "stream",
     "text": [
      "{'learning_rate': 0.1, 'max_depth': 9, 'n_estimators': 300}\n"
     ]
    },
    {
     "data": {
      "image/png": "[encoded data removed]",
      "text/plain": [
       "<Figure size 640x480 with 2 Axes>"
      ]
     },
     "metadata": {},
     "output_type": "display_data"
    },
    {
     "name": "stdout",
     "output_type": "stream",
     "text": [
      "Accuracy: 0.7200, Precision: 0.9583, Recall: 0.4600, F1: 0.6216216216216216, ROC AUC: 0.7200\n"
     ]
    }
   ],
   "source": [
    "from xgboost import XGBClassifier\n",
    "\n",
    "parameters = {\n",
    "    'n_estimators': [100, 150, 200, 250, 300, 400, 500],\n",
    "    'max_depth': [3, 5, 7, 9, 11, 13, 15],\n",
    "    'learning_rate': [0.001, 0.01, 0.1, 1]\n",
    "}\n",
    "xgc = XGBClassifier()\n",
    "\n",
    "gs = GridSearchCV(xgc, parameters, scoring='accuracy', cv=5, n_jobs=10)\n",
    "\n",
    "gs = gs.fit(x_train, y_train)\n",
    "\n",
    "print(gs.best_params_)\n",
    "\n",
    "best_xgc = gs.best_estimator_\n",
    "\n",
    "y_pred = best_xgc.predict(x_test)\n",
    "\n",
    "acc = accuracy_score(y_test, y_pred)\n",
    "precision = precision_score(y_test, y_pred)\n",
    "recall = recall_score(y_test, y_pred)\n",
    "f1 = f1_score(y_test, y_pred)\n",
    "roc_auc = roc_auc_score(y_test, y_pred)\n",
    "conf_mat = confusion_matrix(y_test, y_pred)\n",
    "\n",
    "disp = ConfusionMatrixDisplay(confusion_matrix=conf_mat, display_labels=best_knn.classes_)\n",
    "disp.plot()\n",
    "plt.show()\n",
    "\n",
    "print(f\"Accuracy: {acc:.4f}, Precision: {precision:.4f}, Recall: {recall:.4f}, F1: {f1}, ROC AUC: {roc_auc:.4f}\")"
   ]
  },
  {
   "cell_type": "markdown",
   "metadata": {},
   "source": [
    "## Variable Importances"
   ]
  },
  {
   "cell_type": "code",
   "execution_count": 40,
   "metadata": {},
   "outputs": [
    {
     "data": {
      "image/png": "[encoded data removed]",
      "text/plain": [
       "<Figure size 1000x700 with 1 Axes>"
      ]
     },
     "metadata": {},
     "output_type": "display_data"
    }
   ],
   "source": [
    "plt.figure(figsize=(10, 7))\n",
    "\n",
    "x_ax = range(len(best_xgc.feature_importances_))\n",
    "\n",
    "plt.bar(x_ax, best_xgc.feature_importances_)\n",
    "plt.xticks(x_ax, x_cols, rotation=90)\n",
    "plt.show()"
   ]
  }
 ],
 "metadata": {
  "kernelspec": {
   "display_name": "Python 3",
   "language": "python",
   "name": "python3"
  },
  "language_info": {
   "codemirror_mode": {
    "name": "ipython",
    "version": 3
   },
   "file_extension": ".py",
   "mimetype": "text/x-python",
   "name": "python",
   "nbconvert_exporter": "python",
   "pygments_lexer": "ipython3",
   "version": "3.12.2"
  }
 },
 "nbformat": 4,
 "nbformat_minor": 2
}
